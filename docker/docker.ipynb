{
 "cells": [
  {
   "cell_type": "markdown",
   "metadata": {
    "slideshow": {
     "slide_type": "slide"
    }
   },
   "source": [
    "![](https://www.docker.com/sites/default/files/d8/2019-07/Moby-logo.png)"
   ]
  },
  {
   "cell_type": "markdown",
   "metadata": {
    "slideshow": {
     "slide_type": "slide"
    }
   },
   "source": [
    "# Dockerfile\n",
    "---\n",
    "```\n",
    "FROM ubuntu:18.04\n",
    "\n",
    "COPY . /app\n",
    "\n",
    "RUN make /app\n",
    "\n",
    "CMD python /app/app.py\n",
    "```"
   ]
  },
  {
   "cell_type": "markdown",
   "metadata": {
    "slideshow": {
     "slide_type": "fragment"
    }
   },
   "source": [
    "## COPY vs ADD\n",
    "\n",
    "1. ADD do additional magic - can read from URL and extract TAR\n",
    "2. COPY is more straightforward and thus recommended"
   ]
  },
  {
   "cell_type": "markdown",
   "metadata": {
    "slideshow": {
     "slide_type": "slide"
    }
   },
   "source": [
    "## CMD vs ENTRYPOINT\n",
    "\n",
    "1. CMD - default command for `docker run`, easy to override\n",
    "2. ENTRYPOINT - replaces shell, will process `docker run` params\n",
    "3. Shell form: `CMD echo \"Hello world\"`\n",
    "4. Exec form: `CMD [\"echo\", \"Hello world\"]`\n",
    "5. Exec form is recommended, doesn't require shell."
   ]
  },
  {
   "cell_type": "markdown",
   "metadata": {
    "slideshow": {
     "slide_type": "fragment"
    }
   },
   "source": [
    "---\n",
    "```\n",
    "# entrypoint with default args:\n",
    "\n",
    "ENTRYPOINT [\"app\"]\n",
    "CMD [\"arg1\", \"arg2\"]\n",
    "```\n",
    "---\n",
    "```\n",
    "# it will ignore CMD\n",
    "docker run arg3\n",
    "```"
   ]
  },
  {
   "cell_type": "markdown",
   "metadata": {
    "slideshow": {
     "slide_type": "slide"
    }
   },
   "source": [
    "# Effective build cache\n",
    "\n",
    "Most stable commands on top, often changing on bottom."
   ]
  },
  {
   "cell_type": "markdown",
   "metadata": {
    "slideshow": {
     "slide_type": "fragment"
    }
   },
   "source": [
    "```\n",
    "...\n",
    "\n",
    "COPY requirements/prod.txt /requirements.txt\n",
    "RUN pip install -r /requirements.txt\n",
    "\n",
    "COPY . /app\n",
    "\n",
    "...\n",
    "```"
   ]
  },
  {
   "cell_type": "markdown",
   "metadata": {
    "slideshow": {
     "slide_type": "slide"
    }
   },
   "source": [
    "# Build context and .dockerignore\n",
    "\n",
    "1. All files from dir where `docker build` is run are send to docker process.\n",
    "2. .dockerignore (syntax as .gitignore) allows to exclude some files.\n",
    "3. It makes build faster and Dockerfile simpler, e.g. `COPY . /app`"
   ]
  },
  {
   "cell_type": "markdown",
   "metadata": {
    "slideshow": {
     "slide_type": "slide"
    }
   },
   "source": [
    "# Layers\n",
    "\n",
    "1. Every command in Dockerfile creates layer.\n",
    "2. Layer is just a files diff from layer below.\n",
    "3. Layers are read-only which makes them reusable.\n",
    "4. Copy-on-Write (CoW) strategy - copy then modify.\n",
    "5. `docker history <image>` - shows image's layers."
   ]
  },
  {
   "cell_type": "markdown",
   "metadata": {
    "slideshow": {
     "slide_type": "subslide"
    }
   },
   "source": [
    "![](img/sharing-layers.jpg)"
   ]
  },
  {
   "cell_type": "markdown",
   "metadata": {
    "slideshow": {
     "slide_type": "slide"
    }
   },
   "source": [
    "## Storage driver\n",
    "\n",
    "1. Determines how layers are stored and applied.\n",
    "2. Default `overlay2` operates on file level.\n",
    "3. There are also block level drivers, e.g. `btrfs`.\n",
    "4. File level is simpler and memory efficient, but uses more storage.\n",
    "5. Block level is better for write-heavy workloads.\n",
    "6. File level + volumes are the way to go."
   ]
  },
  {
   "cell_type": "markdown",
   "metadata": {
    "slideshow": {
     "slide_type": "slide"
    }
   },
   "source": [
    "## How to get to layer's files?\n",
    "---\n",
    "```\n",
    "docker image ls\n",
    "docker history <image>\n",
    "docker inspect <layer>\n",
    "cd GraphDriver -> Data -> UpperDir\n",
    "```"
   ]
  },
  {
   "cell_type": "markdown",
   "metadata": {
    "slideshow": {
     "slide_type": "slide"
    }
   },
   "source": [
    "# Container vs image\n",
    "\n",
    "1. Image is a sequence of read-only layers.\n",
    "2. Container is a writable layer on top of image.\n",
    "3. Container can be saved as layer by `docker commit`."
   ]
  },
  {
   "cell_type": "markdown",
   "metadata": {
    "slideshow": {
     "slide_type": "subslide"
    }
   },
   "source": [
    "![](img/container-layers.jpg)"
   ]
  },
  {
   "cell_type": "markdown",
   "metadata": {
    "slideshow": {
     "slide_type": "slide"
    }
   },
   "source": [
    "# Volumes\n",
    "\n",
    "1. Mounts outside dir to path inside container.\n",
    "2. Volume - dir created and managed by Docker, typically in /var/lib/docker\n",
    "3. Bind mounts - dir from host machine, e.g. `./`\n",
    "4. All container's persistent data should be stored in volume.\n",
    "5. Bind mounts are great for local development."
   ]
  },
  {
   "cell_type": "markdown",
   "metadata": {
    "slideshow": {
     "slide_type": "fragment"
    }
   },
   "source": [
    "---\n",
    "```\n",
    "> docker-compose.yml\n",
    "\n",
    "services:\n",
    "  db:\n",
    "    volumes:\n",
    "      - db-data:/var/lib/postgresql/data\n",
    "  app:\n",
    "    volumes:\n",
    "      - .:/app\n",
    "\n",
    "volumes:\n",
    "  db-data:\n",
    "```"
   ]
  },
  {
   "cell_type": "markdown",
   "metadata": {
    "slideshow": {
     "slide_type": "subslide"
    }
   },
   "source": [
    "![](img/volumes.png)"
   ]
  },
  {
   "cell_type": "markdown",
   "metadata": {
    "slideshow": {
     "slide_type": "slide"
    }
   },
   "source": [
    "# Docker Compose\n",
    "\n",
    "1. Creates network between defined services, separated from localhost.\n",
    "2. Service's names are hosts in this internal network.\n",
    "3. Allows to define dependencies between containers.\n",
    "4. Automatically load `.env` file."
   ]
  },
  {
   "cell_type": "markdown",
   "metadata": {
    "slideshow": {
     "slide_type": "slide"
    }
   },
   "source": [
    "# Troubleshooting\n",
    "---\n",
    "```\n",
    "# it's like 42\n",
    "docker inspect <hash>\n",
    "\n",
    "# no comment\n",
    "docker logs --tail=50 -f <container>\n",
    "docker-compose logs --tail=50 -f <service>\n",
    "\n",
    "# run image with bash instead of default command\n",
    "docker run --rm -it <image> bash\n",
    "docker-compose run <service> bash\n",
    "\n",
    "# run image with bash instead of default entrypoint\n",
    "docker run --rm -it --entrypoint bash <image>\n",
    "docker-compose run --entrypoint bash <service>\n",
    "\n",
    "# enter to running container with bash\n",
    "docker exec -it <container> bash\n",
    "docker-compose exec <service> bash\n",
    "```"
   ]
  },
  {
   "cell_type": "markdown",
   "metadata": {
    "slideshow": {
     "slide_type": "slide"
    }
   },
   "source": [
    "# Docker and Linux kernel\n",
    "\n",
    "1. `cgroups` - control groups - allow to manage resources per process.\n",
    "2. `namespaces` - allow to isolate process groups from each other, e.g. `pid`, `usr`"
   ]
  },
  {
   "cell_type": "markdown",
   "metadata": {
    "slideshow": {
     "slide_type": "fragment"
    }
   },
   "source": [
    "## Namespaces\n",
    "\n",
    "1. Namespaces uses IDs from outside normal range (usually 65535)\n",
    "2. IDs inside namespace are mapped e.g. `uid 65536 -> 1000`\n",
    "3. Errors saying that ID > 65535 is unknown are probably problem with namespaces.\n",
    "4. Bitbucket often has such errors ;)"
   ]
  },
  {
   "cell_type": "markdown",
   "metadata": {
    "slideshow": {
     "slide_type": "subslide"
    }
   },
   "source": [
    "![](img/kernel_communication.png)"
   ]
  },
  {
   "cell_type": "markdown",
   "metadata": {
    "slideshow": {
     "slide_type": "slide"
    }
   },
   "source": [
    "![](img/end.jpg)"
   ]
  }
 ],
 "metadata": {
  "celltoolbar": "Slideshow",
  "kernelspec": {
   "display_name": "Python 3",
   "language": "python",
   "name": "python3"
  },
  "language_info": {
   "codemirror_mode": {
    "name": "ipython",
    "version": 3
   },
   "file_extension": ".py",
   "mimetype": "text/x-python",
   "name": "python",
   "nbconvert_exporter": "python",
   "pygments_lexer": "ipython3",
   "version": "3.6.8"
  }
 },
 "nbformat": 4,
 "nbformat_minor": 2
}
