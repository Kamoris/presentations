{
 "cells": [
  {
   "attachments": {},
   "cell_type": "markdown",
   "metadata": {
    "slideshow": {
     "slide_type": "slide"
    }
   },
   "source": [
    "# Docker registry"
   ]
  },
  {
   "cell_type": "markdown",
   "metadata": {
    "slideshow": {
     "slide_type": "fragment"
    }
   },
   "source": [
    "## What is a Docker registry?"
   ]
  },
  {
   "cell_type": "markdown",
   "metadata": {
    "slideshow": {
     "slide_type": "fragment"
    }
   },
   "source": [
    "- It's a file storage with an API compatible with Docker interface."
   ]
  },
  {
   "cell_type": "markdown",
   "metadata": {
    "slideshow": {
     "slide_type": "fragment"
    }
   },
   "source": [
    "- By analogy: it's for Docker images what Git is for source code, but..."
   ]
  },
  {
   "cell_type": "markdown",
   "metadata": {
    "slideshow": {
     "slide_type": "fragment"
    }
   },
   "source": [
    "- ... it's more a deploy tool than version control system."
   ]
  },
  {
   "cell_type": "markdown",
   "metadata": {
    "slideshow": {
     "slide_type": "fragment"
    }
   },
   "source": [
    "- It stores Dockerfiles products but without Dockerfiles themselves."
   ]
  },
  {
   "cell_type": "markdown",
   "metadata": {
    "slideshow": {
     "slide_type": "fragment"
    }
   },
   "source": [
    "- In GCP it's called Container Registry, but it's really store images not containers."
   ]
  },
  {
   "cell_type": "markdown",
   "metadata": {
    "slideshow": {
     "slide_type": "fragment"
    }
   },
   "source": [
    "- Docker Hub is public registry which works as PyPI for Python."
   ]
  },
  {
   "attachments": {},
   "cell_type": "markdown",
   "metadata": {
    "slideshow": {
     "slide_type": "subslide"
    }
   },
   "source": [
    "![](img/schema.webp)"
   ]
  },
  {
   "cell_type": "markdown",
   "metadata": {
    "slideshow": {
     "slide_type": "slide"
    }
   },
   "source": [
    "## Basic workflow"
   ]
  },
  {
   "cell_type": "markdown",
   "metadata": {
    "slideshow": {
     "slide_type": "fragment"
    }
   },
   "source": [
    "1. Push code to git repo.\n",
    "2. Run CI pipeline:\n",
    "  - Build Docker images.\n",
    "  - Run tests, linters etc.\n",
    "3. Run deploy through Jenkins:\n",
    "4. Pull code on production.\n",
    "5. Build containers.\n",
    "6. Run containers."
   ]
  },
  {
   "cell_type": "markdown",
   "metadata": {
    "slideshow": {
     "slide_type": "subslide"
    }
   },
   "source": [
    "## Workflow with Docker registry\n",
    "1. Push code to git repo.\n",
    "2. Run CI pipeline:\n",
    "  - Build Docker images.\n",
    "  - Run tests, linters etc.\n",
    "  - **Push images to registry.**\n",
    "3. Run deploy through Jenkins:\n",
    "4. Pull ~~code~~ **images** on production.\n",
    "5. ~~Build containers.~~\n",
    "6. Run containers."
   ]
  },
  {
   "cell_type": "markdown",
   "metadata": {
    "slideshow": {
     "slide_type": "slide"
    }
   },
   "source": [
    "## To use or not to use?"
   ]
  },
  {
   "cell_type": "markdown",
   "metadata": {
    "slideshow": {
     "slide_type": "fragment"
    }
   },
   "source": [
    "### Pros"
   ]
  },
  {
   "cell_type": "markdown",
   "metadata": {
    "slideshow": {
     "slide_type": "fragment"
    }
   },
   "source": [
    "- Simpler deploy - less moving parts."
   ]
  },
  {
   "cell_type": "markdown",
   "metadata": {
    "slideshow": {
     "slide_type": "fragment"
    }
   },
   "source": [
    "- The same images which pass CI go to production."
   ]
  },
  {
   "cell_type": "markdown",
   "metadata": {
    "slideshow": {
     "slide_type": "fragment"
    }
   },
   "source": [
    "- Generally accepted flow, considered as good practice."
   ]
  },
  {
   "cell_type": "markdown",
   "metadata": {
    "slideshow": {
     "slide_type": "fragment"
    }
   },
   "source": [
    "- Fast revert - no need to rebuild images."
   ]
  },
  {
   "cell_type": "markdown",
   "metadata": {
    "slideshow": {
     "slide_type": "fragment"
    }
   },
   "source": [
    "- Must-have to work in distributed environments like Kubernetes."
   ]
  },
  {
   "cell_type": "markdown",
   "metadata": {
    "slideshow": {
     "slide_type": "subslide"
    }
   },
   "source": [
    "### Cons"
   ]
  },
  {
   "cell_type": "markdown",
   "metadata": {
    "slideshow": {
     "slide_type": "fragment"
    }
   },
   "source": [
    "- More complicated CI - need to push images."
   ]
  },
  {
   "cell_type": "markdown",
   "metadata": {
    "slideshow": {
     "slide_type": "fragment"
    }
   },
   "source": [
    "- Need to wait for CI before start deploy but..."
   ]
  },
  {
   "cell_type": "markdown",
   "metadata": {
    "slideshow": {
     "slide_type": "fragment"
    }
   },
   "source": [
    "- ... it might be bypassed with auto-deploy."
   ]
  },
  {
   "cell_type": "markdown",
   "metadata": {
    "slideshow": {
     "slide_type": "fragment"
    }
   },
   "source": [
    "- Registry costs money and requires maintenance."
   ]
  },
  {
   "cell_type": "markdown",
   "metadata": {
    "slideshow": {
     "slide_type": "slide"
    }
   },
   "source": [
    "## How it's done on BSP?"
   ]
  },
  {
   "cell_type": "markdown",
   "metadata": {
    "slideshow": {
     "slide_type": "slide"
    }
   },
   "source": [
    "### Delivering images to Container Registry"
   ]
  },
  {
   "cell_type": "markdown",
   "metadata": {
    "slideshow": {
     "slide_type": "fragment"
    }
   },
   "source": [
    "**bitbucket-pipelines.yml**:\n",
    "```\n",
    "...\n",
    "  - docker-compose build\n",
    "  - invoke ci\n",
    "  - echo $GCP_JSON_KEY | docker login -u _json_key --password-stdin https://gcr.io\n",
    "  - invoke docker-registry.push-images\n",
    "...\n",
    "```"
   ]
  },
  {
   "cell_type": "markdown",
   "metadata": {
    "slideshow": {
     "slide_type": "subslide"
    }
   },
   "source": [
    "**tasks/docker_registry.py**:\n",
    "```python\n",
    "import invoke\n",
    "\n",
    "IMAGES = [\n",
    "    'gcr.io/brandsafety-rtbhouse-biz/bsp_app',\n",
    "    'gcr.io/brandsafety-rtbhouse-biz/bsp_web',\n",
    "]  # same as in docker/docker-compose.yml\n",
    "\n",
    "\n",
    "@invoke.task()\n",
    "def push_images(c):\n",
    "    branch_name = c.run('git rev-parse --abbrev-ref HEAD', hide='out').stdout.strip()\n",
    "    short_hash = c.run('git rev-parse --short HEAD', hide='out').stdout.strip()\n",
    "\n",
    "    tag = f'{branch_name}-{short_hash}'\n",
    "    for image in IMAGES:\n",
    "        c.run(f'docker tag {image} {image}:{tag}')\n",
    "        c.run(f'docker push {image}:{tag}')\n",
    "        if branch_name == 'master':\n",
    "            c.run(f'docker tag {image} {image}:latest')\n",
    "            c.run(f'docker push {image}:latest')\n",
    "        elif branch_name == 'stage':\n",
    "            c.run(f'docker tag {image} {image}:stage')\n",
    "            c.run(f'docker push {image}:stage')\n",
    "```"
   ]
  },
  {
   "cell_type": "markdown",
   "metadata": {
    "slideshow": {
     "slide_type": "slide"
    }
   },
   "source": [
    "### Running images on production"
   ]
  },
  {
   "cell_type": "markdown",
   "metadata": {
    "slideshow": {
     "slide_type": "fragment"
    }
   },
   "source": [
    "**docker/docker-comopse.yml**:\n",
    "```\n",
    "version: \"3.7\"\n",
    "services:\n",
    "  app:\n",
    "    image: gcr.io/brandsafety-rtbhouse-biz/bsp_app:${DOCKER_TAG:-latest}\n",
    "    ...\n",
    "  web:\n",
    "    image: gcr.io/brandsafety-rtbhouse-biz/bsp_web:${DOCKER_TAG:-latest}\n",
    "    ...\n",
    "  celery:\n",
    "    image: gcr.io/brandsafety-rtbhouse-biz/bsp_app:${DOCKER_TAG:-latest}\n",
    "    ...\n",
    "```"
   ]
  },
  {
   "cell_type": "markdown",
   "metadata": {
    "slideshow": {
     "slide_type": "fragment"
    }
   },
   "source": [
    "$ docker-compose up -d"
   ]
  },
  {
   "cell_type": "markdown",
   "metadata": {
    "slideshow": {
     "slide_type": "fragment"
    }
   },
   "source": [
    "... unfortunately not so simple:"
   ]
  },
  {
   "cell_type": "markdown",
   "metadata": {
    "slideshow": {
     "slide_type": "subslide"
    }
   },
   "source": [
    "**ansible/roles/deploy/tasks/main.yml**:\n",
    "```\n",
    "- name: Copy docker-compose files\n",
    "  copy:\n",
    "    src: \"{{ playbook_dir }}/../docker/{{ item }}\"\n",
    "    dest: \"{{ project_root }}/docker/{{ item }}\"\n",
    "  with_items:\n",
    "    - docker-compose.yml\n",
    "    - docker-compose.prod.yml\n",
    "\n",
    "- name: Docker login\n",
    "  vars:\n",
    "    key_file: \"{{ lookup('env', 'CONTAINER_REGISTRY_KEY') }}\"\n",
    "  docker_login:\n",
    "    username: _json_key\n",
    "    registry_url: gcr.io\n",
    "    password: \"{{ lookup('file', key_file) | string }}\"\n",
    "\n",
    "- name: Run containers\n",
    "  docker_compose:\n",
    "    project_src: \"{{ project_root }}\"\n",
    "    pull: yes\n",
    "    state: present\n",
    "    timeout: 60\n",
    "  environment:\n",
    "    - DOCKER_TAG: \"{{ lookup('env', 'DOCKER_TAG') or 'latest' }}\"\n",
    "```"
   ]
  },
  {
   "cell_type": "markdown",
   "metadata": {
    "slideshow": {
     "slide_type": "slide"
    }
   },
   "source": [
    "## How to setup Docker registry in project?"
   ]
  },
  {
   "cell_type": "markdown",
   "metadata": {
    "slideshow": {
     "slide_type": "fragment"
    }
   },
   "source": [
    "- Enable Container Registry API in a project in GCP."
   ]
  },
  {
   "cell_type": "markdown",
   "metadata": {
    "slideshow": {
     "slide_type": "fragment"
    }
   },
   "source": [
    "- Create Service Account with permissions to use Cloud Storage."
   ]
  },
  {
   "cell_type": "markdown",
   "metadata": {
    "slideshow": {
     "slide_type": "fragment"
    }
   },
   "source": [
    "- Downalod JSON key and pass it to `docker login`."
   ]
  },
  {
   "cell_type": "markdown",
   "metadata": {
    "slideshow": {
     "slide_type": "fragment"
    }
   },
   "source": [
    "- Done. Commands like `docker push / pull` should work."
   ]
  },
  {
   "cell_type": "markdown",
   "metadata": {
    "slideshow": {
     "slide_type": "slide"
    }
   },
   "source": [
    "## End thoughts"
   ]
  },
  {
   "cell_type": "markdown",
   "metadata": {
    "slideshow": {
     "slide_type": "fragment"
    }
   },
   "source": [
    "- Docker registry in most cases is NOT a must-have."
   ]
  },
  {
   "cell_type": "markdown",
   "metadata": {
    "slideshow": {
     "slide_type": "fragment"
    }
   },
   "source": [
    "- Some registries supports webhooks eg. GitLab, but not GCP."
   ]
  },
  {
   "cell_type": "markdown",
   "metadata": {
    "slideshow": {
     "slide_type": "slide"
    }
   },
   "source": [
    "## Any questions?"
   ]
  },
  {
   "cell_type": "markdown",
   "metadata": {
    "slideshow": {
     "slide_type": "fragment"
    }
   },
   "source": [
    "![](img/good.png)"
   ]
  },
  {
   "cell_type": "markdown",
   "metadata": {
    "slideshow": {
     "slide_type": "subslide"
    }
   },
   "source": [
    "## The end!\n",
    "\n",
    "![](img/tyrone.gif)"
   ]
  }
 ],
 "metadata": {
  "celltoolbar": "Slideshow",
  "kernelspec": {
   "display_name": "Python 3",
   "language": "python",
   "name": "python3"
  },
  "language_info": {
   "codemirror_mode": {
    "name": "ipython",
    "version": 3
   },
   "file_extension": ".py",
   "mimetype": "text/x-python",
   "name": "python",
   "nbconvert_exporter": "python",
   "pygments_lexer": "ipython3",
   "version": "3.6.10"
  }
 },
 "nbformat": 4,
 "nbformat_minor": 2
}
