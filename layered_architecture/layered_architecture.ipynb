{
 "cells": [
  {
   "cell_type": "markdown",
   "metadata": {
    "slideshow": {
     "slide_type": "slide"
    }
   },
   "source": [
    "# Layered Architecture"
   ]
  },
  {
   "cell_type": "markdown",
   "metadata": {
    "slideshow": {
     "slide_type": "slide"
    }
   },
   "source": [
    "## Why does architecture matters?"
   ]
  },
  {
   "cell_type": "markdown",
   "metadata": {
    "slideshow": {
     "slide_type": "fragment"
    }
   },
   "source": [
    "\"To make system maintainable\" - sure, but what does it mean?"
   ]
  },
  {
   "cell_type": "markdown",
   "metadata": {
    "slideshow": {
     "slide_type": "fragment"
    }
   },
   "source": [
    "System is maintainable when it's easy to make changes and add features."
   ]
  },
  {
   "cell_type": "markdown",
   "metadata": {
    "slideshow": {
     "slide_type": "subslide"
    }
   },
   "source": [
    "### What determines the ease of making changes and adding features?"
   ]
  },
  {
   "cell_type": "markdown",
   "metadata": {
    "slideshow": {
     "slide_type": "fragment"
    }
   },
   "source": [
    "- Time needed to understand what is happening and where"
   ]
  },
  {
   "cell_type": "markdown",
   "metadata": {
    "slideshow": {
     "slide_type": "fragment"
    }
   },
   "source": [
    "- Time needed to determine how to make a change\n",
    "    - ...without breaking the rest of the system"
   ]
  },
  {
   "cell_type": "markdown",
   "metadata": {
    "slideshow": {
     "slide_type": "fragment"
    }
   },
   "source": [
    "- Time needed to implement a solution (usually the fastest step)"
   ]
  },
  {
   "cell_type": "markdown",
   "metadata": {
    "slideshow": {
     "slide_type": "fragment"
    }
   },
   "source": [
    "- Time needed for testing and debugging (usually the slowest step)\n",
    "    - How many (logic) elements must be touched? It's exponential growth\n",
    "    - Includes errors found after deployment and fixing them"
   ]
  },
  {
   "cell_type": "markdown",
   "metadata": {
    "slideshow": {
     "slide_type": "fragment"
    }
   },
   "source": [
    "- Time needed to make a code review\n",
    "    - Directly proportional to effort put in previous steps"
   ]
  },
  {
   "cell_type": "markdown",
   "metadata": {
    "slideshow": {
     "slide_type": "fragment"
    }
   },
   "source": [
    "It all comes down to complexity, which is the nemesis of every developer."
   ]
  },
  {
   "cell_type": "markdown",
   "metadata": {
    "slideshow": {
     "slide_type": "slide"
    }
   },
   "source": [
    "### Cognitive load"
   ]
  },
  {
   "cell_type": "markdown",
   "metadata": {
    "slideshow": {
     "slide_type": "fragment"
    }
   },
   "source": [
    "- Every piece of information we need to keep in mind adds to fatigue."
   ]
  },
  {
   "cell_type": "markdown",
   "metadata": {
    "slideshow": {
     "slide_type": "fragment"
    }
   },
   "source": [
    "- Idioms, patterns, frameworks - after getting familiar - lower the cognitive load."
   ]
  },
  {
   "cell_type": "markdown",
   "metadata": {
    "slideshow": {
     "slide_type": "fragment"
    }
   },
   "source": [
    "- Unexpected, custom solutions are the most expensive and tiring."
   ]
  },
  {
   "cell_type": "markdown",
   "metadata": {
    "slideshow": {
     "slide_type": "slide"
    }
   },
   "source": [
    "## How does architecture solve the problem?"
   ]
  },
  {
   "cell_type": "markdown",
   "metadata": {
    "slideshow": {
     "slide_type": "fragment"
    }
   },
   "source": [
    "### Logical structure"
   ]
  },
  {
   "cell_type": "markdown",
   "metadata": {
    "slideshow": {
     "slide_type": "fragment"
    }
   },
   "source": [
    "- It's easy to find things and recognize where the new element should belong."
   ]
  },
  {
   "cell_type": "markdown",
   "metadata": {
    "slideshow": {
     "slide_type": "fragment"
    }
   },
   "source": [
    "- Areas of responsibility are grouped together and clearly separated."
   ]
  },
  {
   "cell_type": "markdown",
   "metadata": {
    "slideshow": {
     "slide_type": "fragment"
    }
   },
   "source": [
    "- Frameworks shine here, it's probably the main reason to use them."
   ]
  },
  {
   "cell_type": "markdown",
   "metadata": {
    "slideshow": {
     "slide_type": "subslide"
    }
   },
   "source": [
    "### Levels of abstraction"
   ]
  },
  {
   "cell_type": "markdown",
   "metadata": {
    "slideshow": {
     "slide_type": "fragment"
    }
   },
   "source": [
    "- Good abstraction is __the__ solution to tame complexity and reduce cognitive load."
   ]
  },
  {
   "cell_type": "markdown",
   "metadata": {
    "slideshow": {
     "slide_type": "fragment"
    }
   },
   "source": [
    "- ...but wrong abstraction does just the opposite."
   ]
  },
  {
   "cell_type": "markdown",
   "metadata": {
    "slideshow": {
     "slide_type": "fragment"
    }
   },
   "source": [
    "- Duplication is far cheaper than the wrong abstraction. Rule of three."
   ]
  },
  {
   "cell_type": "markdown",
   "metadata": {
    "slideshow": {
     "slide_type": "fragment"
    }
   },
   "source": [
    "#### How to know if our abstraction is a good one?"
   ]
  },
  {
   "cell_type": "markdown",
   "metadata": {
    "slideshow": {
     "slide_type": "fragment"
    }
   },
   "source": [
    "- It's as close to the real world as possible."
   ]
  },
  {
   "cell_type": "markdown",
   "metadata": {
    "slideshow": {
     "slide_type": "fragment"
    }
   },
   "source": [
    "- It not getting complicated over time."
   ]
  },
  {
   "cell_type": "markdown",
   "metadata": {
    "slideshow": {
     "slide_type": "fragment"
    }
   },
   "source": [
    "- It's on a single level of abstraction."
   ]
  },
  {
   "cell_type": "markdown",
   "metadata": {
    "slideshow": {
     "slide_type": "slide"
    }
   },
   "source": [
    "## Layered Architecture"
   ]
  },
  {
   "cell_type": "markdown",
   "metadata": {
    "slideshow": {
     "slide_type": "fragment"
    }
   },
   "source": [
    "- Dividing complicated systems into layers is a popular concept in software."
   ]
  },
  {
   "cell_type": "markdown",
   "metadata": {
    "slideshow": {
     "slide_type": "fragment"
    }
   },
   "source": [
    "- It helps achieve decoupling, hide complexity and facilitates re-usability."
   ]
  },
  {
   "cell_type": "markdown",
   "metadata": {
    "slideshow": {
     "slide_type": "fragment"
    }
   },
   "source": [
    "- Good examples are OSI model or TCP/IP protocol."
   ]
  },
  {
   "cell_type": "markdown",
   "metadata": {
    "slideshow": {
     "slide_type": "fragment"
    }
   },
   "source": [
    "- When layers are well defined it's easy to do the right thing."
   ]
  },
  {
   "cell_type": "markdown",
   "metadata": {
    "slideshow": {
     "slide_type": "fragment"
    }
   },
   "source": [
    "- In high-level programming there are multiple approaches, more or less similar."
   ]
  },
  {
   "cell_type": "markdown",
   "metadata": {
    "slideshow": {
     "slide_type": "fragment"
    }
   },
   "source": [
    "- Each layer represents different level of abstraction."
   ]
  },
  {
   "cell_type": "markdown",
   "metadata": {
    "slideshow": {
     "slide_type": "slide"
    }
   },
   "source": [
    "### Domain-driven design (DDD) style"
   ]
  },
  {
   "cell_type": "markdown",
   "metadata": {
    "slideshow": {
     "slide_type": "fragment"
    }
   },
   "source": [
    "#### Infrastructure / UI\n",
    "1. Communication with external world e.g. database, API, CLI, email."
   ]
  },
  {
   "cell_type": "markdown",
   "metadata": {
    "slideshow": {
     "slide_type": "fragment"
    }
   },
   "source": [
    "#### Application\n",
    "1. Similar across apps, usually delivered by framework e.g. authentication, HTTP.\n",
    "2. \"Is it the reason we're building this app for?\" - if not it's Application Layer."
   ]
  },
  {
   "cell_type": "markdown",
   "metadata": {
    "slideshow": {
     "slide_type": "fragment"
    }
   },
   "source": [
    "#### Domain\n",
    "1. Business logic - reason why we even build this app - all should be here.\n",
    "2. In ideal scenario domain logic should be readable even by non-developers.\n",
    "3. It should be easy to test, even without mocking. (Django?)\n",
    "4. Framework agnostic."
   ]
  },
  {
   "cell_type": "markdown",
   "metadata": {
    "slideshow": {
     "slide_type": "subslide"
    }
   },
   "source": [
    "### Domain-driven design (DDD) style\n",
    "\n",
    "![](img/ddd.png)"
   ]
  },
  {
   "cell_type": "markdown",
   "metadata": {
    "slideshow": {
     "slide_type": "slide"
    }
   },
   "source": [
    "### Onion Architecture\n",
    "\n",
    "![](img/onion.png)"
   ]
  },
  {
   "cell_type": "markdown",
   "metadata": {
    "slideshow": {
     "slide_type": "slide"
    }
   },
   "source": [
    "### Clean Architecture\n",
    "\n",
    "![](img/clean.jpg)"
   ]
  },
  {
   "cell_type": "markdown",
   "metadata": {
    "slideshow": {
     "slide_type": "slide"
    }
   },
   "source": [
    "### Hexagonal Architecture\n",
    "\n",
    "![](img/hexagonal.png)"
   ]
  },
  {
   "cell_type": "markdown",
   "metadata": {
    "slideshow": {
     "slide_type": "slide"
    }
   },
   "source": [
    "### Explicit Architecture\n",
    "\n",
    "![](img/explicit.png)"
   ]
  },
  {
   "cell_type": "markdown",
   "metadata": {
    "slideshow": {
     "slide_type": "slide"
    }
   },
   "source": [
    "## Examples"
   ]
  },
  {
   "cell_type": "markdown",
   "metadata": {
    "slideshow": {
     "slide_type": "fragment"
    }
   },
   "source": [
    "### Model-View-Controller (MVC)\n",
    "\n",
    "1. Model = Domain (+ Infrastructure)\n",
    "2. Controller = Application\n",
    "3. View = UI\n",
    "4. (Framework = Application + Infrastructure)\n",
    "5. (In Django View = Controller)"
   ]
  },
  {
   "cell_type": "markdown",
   "metadata": {
    "slideshow": {
     "slide_type": "fragment"
    }
   },
   "source": [
    "### Repository pattern\n",
    "\n",
    "1. Separates infrastructure from the rest of the system.\n",
    "2. It's easy to change storage, add cache etc."
   ]
  },
  {
   "cell_type": "markdown",
   "metadata": {
    "slideshow": {
     "slide_type": "subslide"
    }
   },
   "source": [
    "### Inversion of Control (IoC)\n",
    "\n",
    "1. Implemented mostly as Dependency Injection which is useless in Python.\n",
    "2. ...but as a principle should be used even implicitly.\n"
   ]
  },
  {
   "cell_type": "code",
   "execution_count": null,
   "metadata": {
    "slideshow": {
     "slide_type": "fragment"
    }
   },
   "outputs": [],
   "source": [
    "class BrandSafetyPoliceman:\n",
    "    def __init__(self, advertisers_repository):\n",
    "        self.advertisers_repository = advertisers_repository\n",
    "        \n",
    "    def check_brand_safety(self, advertiser_id):\n",
    "        advertiser = self.advertisers_repository.get(advertiser_id)\n",
    "        ..."
   ]
  },
  {
   "cell_type": "markdown",
   "metadata": {
    "slideshow": {
     "slide_type": "slide"
    }
   },
   "source": [
    "### Real-life example"
   ]
  },
  {
   "cell_type": "code",
   "execution_count": null,
   "metadata": {
    "slideshow": {
     "slide_type": "fragment"
    }
   },
   "outputs": [],
   "source": [
    "def get_brand_safety_status(request: HttpRequest) -> HttpResponse:\n",
    "    if request.headers['Content-Type'] != 'application/json':\n",
    "        raise ContentTypeError()\n",
    "    \n",
    "    data = request.json()\n",
    "    with database.cursor() as cur:\n",
    "        cur.execute(\n",
    "            'SELECT * FROM advertisers WHERE id = %s',\n",
    "            (data['advertiser_id'],)\n",
    "        )\n",
    "        advertiser = cur.fetchone()\n",
    "    \n",
    "    bid_request = data['bid_request']\n",
    "    if bid_request['host'] in advertiser.host_blacklist:\n",
    "        return HttpResponse({'status': False})\n",
    "    \n",
    "    return HttpResponse({'status': True})"
   ]
  },
  {
   "cell_type": "code",
   "execution_count": null,
   "metadata": {
    "slideshow": {
     "slide_type": "subslide"
    }
   },
   "outputs": [],
   "source": [
    "# infrastructure\n",
    "def get(advertiser_id):\n",
    "    with database.cursor() as cur:\n",
    "        cur.execute(\n",
    "            'SELECT * FROM advertisers WHERE id = %s',\n",
    "            (data['advertiser_id'],)\n",
    "        )\n",
    "        return cur.fetchone()"
   ]
  },
  {
   "cell_type": "code",
   "execution_count": null,
   "metadata": {
    "slideshow": {
     "slide_type": "fragment"
    }
   },
   "outputs": [],
   "source": [
    "# application\n",
    "def get_brand_safety_status(request: HttpRequest) -> HttpResponse:\n",
    "    if request.headers['Content-Type'] != 'application/json':\n",
    "        raise ContentTypeError()\n",
    "    \n",
    "    data = request.json()\n",
    "    advertiser = advertisers_repository.get(data['advertiser_id'])\n",
    "    bid_request = data['bid_request']\n",
    "    \n",
    "    status = check_brand_safety(advertiser, bid_request)\n",
    "    return HttpResponse({'status': status})"
   ]
  },
  {
   "cell_type": "code",
   "execution_count": null,
   "metadata": {
    "slideshow": {
     "slide_type": "fragment"
    }
   },
   "outputs": [],
   "source": [
    "# domain - pure function\n",
    "def check_brand_safety(advertiser, bid_request) -> bool:\n",
    "    return bid_request['host'] in advertiser.host_blacklist"
   ]
  },
  {
   "cell_type": "markdown",
   "metadata": {
    "slideshow": {
     "slide_type": "slide"
    }
   },
   "source": [
    "### Links\n",
    "1. \"The Wrong Abstraction\" - https://www.sandimetz.com/blog/2016/1/20/the-wrong-abstraction\n",
    "2. \"The Clean Architecture\" - https://blog.cleancoder.com/uncle-bob/2012/08/13/the-clean-architecture.html\n",
    "3. \"DDD, Hexagonal, Onion, Clean, CQRS, … How I put it all together\" - https://herbertograca.com/2017/11/16/explicit-architecture-01-ddd-hexagonal-onion-clean-cqrs-how-i-put-it-all-together/"
   ]
  },
  {
   "cell_type": "markdown",
   "metadata": {
    "slideshow": {
     "slide_type": "subslide"
    }
   },
   "source": [
    "![](img/shrek.jpg)"
   ]
  }
 ],
 "metadata": {
  "celltoolbar": "Slideshow",
  "kernelspec": {
   "display_name": "Python 3",
   "language": "python",
   "name": "python3"
  },
  "language_info": {
   "codemirror_mode": {
    "name": "ipython",
    "version": 3
   },
   "file_extension": ".py",
   "mimetype": "text/x-python",
   "name": "python",
   "nbconvert_exporter": "python",
   "pygments_lexer": "ipython3",
   "version": "3.6.10"
  }
 },
 "nbformat": 4,
 "nbformat_minor": 2
}
